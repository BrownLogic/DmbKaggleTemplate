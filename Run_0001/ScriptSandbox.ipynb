{
 "cells": [
  {
   "cell_type": "code",
   "execution_count": 1,
   "metadata": {
    "collapsed": false
   },
   "outputs": [],
   "source": [
    "from kaggle import settings\n",
    "import pandas as pd\n",
    "import logging.config\n",
    "import json\n",
    "from persistance.execution_context import PersistModel\n",
    "from sklearn.pipeline import FeatureUnion, Pipeline\n",
    "from data_preparation.transformers import ColumnExtractor, LetterCountTransformer, NaNCountTransformer, \\\n",
    "    NanToZeroTransformer, MultiColumnLabelEncoder, LetterExtractionTransformer\n",
    "from sklearn.preprocessing import OneHotEncoder\n",
    "from sklearn import cross_validation\n",
    "from sklearn.linear_model import LogisticRegression"
   ]
  },
  {
   "cell_type": "code",
   "execution_count": 2,
   "metadata": {
    "collapsed": false
   },
   "outputs": [],
   "source": [
    "import sys\n",
    "sys.path.append(r'C:\\Users\\matt\\Documents\\GitHub\\DmbPyLibs')"
   ]
  }
 ],
 "metadata": {
  "kernelspec": {
   "display_name": "Python 2",
   "language": "python",
   "name": "python2"
  },
  "language_info": {
   "codemirror_mode": {
    "name": "ipython",
    "version": 2.0
   },
   "file_extension": ".py",
   "mimetype": "text/x-python",
   "name": "python",
   "nbconvert_exporter": "python",
   "pygments_lexer": "ipython2",
   "version": "2.7.11"
  }
 },
 "nbformat": 4,
 "nbformat_minor": 0
}